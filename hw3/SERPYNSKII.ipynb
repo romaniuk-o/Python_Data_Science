{
  "nbformat": 4,
  "nbformat_minor": 0,
  "metadata": {
    "colab": {
      "provenance": []
    },
    "kernelspec": {
      "name": "python3",
      "display_name": "Python 3"
    },
    "language_info": {
      "name": "python"
    }
  },
  "cells": [
    {
      "cell_type": "code",
      "execution_count": null,
      "metadata": {
        "id": "l1VspqPN8jqm"
      },
      "outputs": [],
      "source": [
        "import numpy as np\n",
        "import pandas as pd\n",
        "import matplotlib.pyplot as plt"
      ]
    },
    {
      "cell_type": "markdown",
      "source": [
        "**1. Функція, яка перевіряє, чи належить випадкова точка трикутнику**"
      ],
      "metadata": {
        "id": "ZvU6QkzZ84PR"
      }
    },
    {
      "cell_type": "code",
      "source": [
        "def belonging(x1, y1, x2, y2, x3, y3, x, y):\n",
        "   p1 = (x1-x)*(y2-y1)-(x2-x1)*(y1-y)\n",
        "   p2 = (x2-x)*(y3-y2)-(x3-x2)*(y2-y)\n",
        "   p3 = (x3-x)*(y1-y3)-(x1-x3)*(y3-y)\n",
        "   if (p1 >= 0 and p2 >= 0 and p3 >= 0) or (p1 <= 0 and p2 <= 0 and p3 <=0):\n",
        "     return True\n",
        "   return False\n"
      ],
      "metadata": {
        "id": "Y4TzQcfS83aB"
      },
      "execution_count": null,
      "outputs": []
    },
    {
      "cell_type": "markdown",
      "source": [
        "**2. Функція, яка \"генерує\" точки в трикутнику**"
      ],
      "metadata": {
        "id": "b_hWvSIYeoX5"
      }
    },
    {
      "cell_type": "code",
      "source": [
        "import random\n",
        "def triangle(A, B, C):\n",
        "  x_start = [A[0], B[0], C[0]]\n",
        "  y_start = [A[1], B[1], C[1]]\n",
        "  count = 0\n",
        "  \n",
        "  p0_x = random.uniform(min(x_start), max(x_start))\n",
        "  p0_y = random.uniform(min(y_start), max(y_start))\n",
        "  if belonging(A[0], A[1], B[0], B[1], C[0], C[1], p0_x, p0_y) == True:\n",
        "    top = random.randint(1, 3)\n",
        "    if top == 1:\n",
        "      p1_x = (A[0] + p0_x)/2\n",
        "      p1_y = (A[1] + p0_y)/2\n",
        "    if top == 2:\n",
        "      p1_x = (B[0] + p0_x)/2\n",
        "      p1_y = (B[1] + p0_y)/2\n",
        "    if top == 3:\n",
        "      p1_x = (C[0] + p0_x)/2\n",
        "      p1_y = (C[1] + p0_y)/2\n",
        "    x_start.append(p1_x)\n",
        "    y_start.append(p1_y)\n",
        "  \n",
        "  while count < 50000:\n",
        "    top = random.randint(1, 3)\n",
        "    if top == 1:\n",
        "      p2_x = (A[0] + p1_x)/2\n",
        "      p2_y = (A[1] + p1_y)/2\n",
        "    if top == 2:\n",
        "      p2_x = (B[0] + p1_x)/2\n",
        "      p2_y = (B[1] + p1_y)/2\n",
        "    if top == 3:\n",
        "      p2_x = (C[0] + p1_x)/2\n",
        "      p2_y = (C[1] + p1_y)/2\n",
        "    x_start.append(p2_x)\n",
        "    y_start.append(p2_y)\n",
        "    p1_x = p2_x\n",
        "    p1_y = p2_y\n",
        "    count += 1\n",
        "  return x_start, y_start"
      ],
      "metadata": {
        "id": "8Pl0ySkEJbG9"
      },
      "execution_count": null,
      "outputs": []
    },
    {
      "cell_type": "markdown",
      "source": [
        "**3. Візуалізація трикутника Серпинського**"
      ],
      "metadata": {
        "id": "GsQDFWVte_h_"
      }
    },
    {
      "cell_type": "code",
      "source": [
        "A = (1,1)\n",
        "B = (50,100)\n",
        "C = (100,1)\n",
        "\n",
        "x, y = triangle(A, B, C)\n",
        "\n",
        "plt.scatter(x, y, c =\"green\", marker=\".\")\n",
        "plt.show()"
      ],
      "metadata": {
        "colab": {
          "base_uri": "https://localhost:8080/",
          "height": 265
        },
        "id": "FG46cu8TFTL8",
        "outputId": "4ca965c4-339e-476b-c827-61fcadf10886"
      },
      "execution_count": null,
      "outputs": [
        {
          "output_type": "display_data",
          "data": {
            "text/plain": [
              "<Figure size 432x288 with 1 Axes>"
            ],
            "image/png": "[encoded data removed]"
          },
          "metadata": {
            "needs_background": "light"
          }
        }
      ]
    }
  ]
}